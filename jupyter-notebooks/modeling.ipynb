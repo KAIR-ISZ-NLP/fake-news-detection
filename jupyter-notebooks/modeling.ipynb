{
  "nbformat": 4,
  "nbformat_minor": 0,
  "metadata": {
    "colab": {
      "name": "modeling.ipynb",
      "provenance": [],
      "collapsed_sections": []
    },
    "kernelspec": {
      "name": "python3",
      "display_name": "Python 3"
    },
    "language_info": {
      "name": "python"
    },
    "accelerator": "GPU"
  },
  "cells": [
    {
      "cell_type": "code",
      "source": [
        "# Imports\n",
        "from sklearn.feature_extraction.text import CountVectorizer, TfidfVectorizer\n",
        "from sklearn.model_selection import train_test_split, GridSearchCV\n",
        "from sklearn.naive_bayes import MultinomialNB\n",
        "from sklearn.svm import SVC\n",
        "from sklearn.ensemble import RandomForestClassifier\n",
        "from sklearn import metrics\n",
        "import numpy as np\n",
        "from matplotlib import pyplot as plt\n",
        "import pandas as pd\n",
        "from joblib import dump, load\n",
        "# Load the Drive helper and mount\n",
        "from google.colab import drive\n",
        "\n",
        "# This will prompt for authorization.\n",
        "drive.mount('/content/drive')"
      ],
      "metadata": {
        "colab": {
          "base_uri": "https://localhost:8080/"
        },
        "id": "7K9m4xykim2Y",
        "outputId": "b48cfde0-3e5d-4827-f14c-03832d8ccb22"
      },
      "execution_count": null,
      "outputs": [
        {
          "output_type": "stream",
          "name": "stdout",
          "text": [
            "Drive already mounted at /content/drive; to attempt to forcibly remount, call drive.mount(\"/content/drive\", force_remount=True).\n"
          ]
        }
      ]
    },
    {
      "cell_type": "code",
      "metadata": {
        "colab": {
          "base_uri": "https://localhost:8080/",
          "height": 241
        },
        "id": "jnp4L6RDvV0a",
        "outputId": "dc485197-0166-473f-8267-1e4dcaf529f7"
      },
      "source": [
        "df = pd.read_excel('drive/MyDrive/Fake News Detection/data/fakenews_detection_dataset.xlsx')\n",
        "display(df.head())\n",
        "\n",
        "X = df['Text']\n",
        "y = df['Verdict']\n",
        "\n",
        "X_train, X_test, y_train, y_test = train_test_split(X, y, test_size=0.3, random_state=8)\n",
        "\n",
        "tfidf_vectorizer = TfidfVectorizer()\n",
        "\n",
        "tfidf_train = tfidf_vectorizer.fit_transform(X_train)\n",
        "dump(tfidf_vectorizer, 'tfidf.joblib') \n",
        "tfidf_test = tfidf_vectorizer.transform(X_test)\n",
        "print(tfidf_train.shape)\n",
        "\n",
        "tfidf_vectorizer_bigrams = TfidfVectorizer(ngram_range=(2, 2))\n",
        "tfidf_train_bigrams = tfidf_vectorizer_bigrams.fit_transform(X_train)\n",
        "tfidf_test_bigrams = tfidf_vectorizer_bigrams.transform(X_test)\n",
        "print(tfidf_train_bigrams.shape)"
      ],
      "execution_count": null,
      "outputs": [
        {
          "output_type": "display_data",
          "data": {
            "text/html": [
              "\n",
              "  <div id=\"df-0f1c4eb2-9c77-4f29-a103-5fd62a09a17b\">\n",
              "    <div class=\"colab-df-container\">\n",
              "      <div>\n",
              "<style scoped>\n",
              "    .dataframe tbody tr th:only-of-type {\n",
              "        vertical-align: middle;\n",
              "    }\n",
              "\n",
              "    .dataframe tbody tr th {\n",
              "        vertical-align: top;\n",
              "    }\n",
              "\n",
              "    .dataframe thead th {\n",
              "        text-align: right;\n",
              "    }\n",
              "</style>\n",
              "<table border=\"1\" class=\"dataframe\">\n",
              "  <thead>\n",
              "    <tr style=\"text-align: right;\">\n",
              "      <th></th>\n",
              "      <th>Verdict</th>\n",
              "      <th>Text</th>\n",
              "    </tr>\n",
              "  </thead>\n",
              "  <tbody>\n",
              "    <tr>\n",
              "      <th>0</th>\n",
              "      <td>False</td>\n",
              "      <td>nieoczywisty rzeczywistość fsychologia pozytyw...</td>\n",
              "    </tr>\n",
              "    <tr>\n",
              "      <th>1</th>\n",
              "      <td>False</td>\n",
              "      <td>bęcwalstwo polski nauka odkryty w rpa nowy wir...</td>\n",
              "    </tr>\n",
              "    <tr>\n",
              "      <th>2</th>\n",
              "      <td>False</td>\n",
              "      <td>magmag cos zaczęlo wyłączać serce sportowiec c...</td>\n",
              "    </tr>\n",
              "    <tr>\n",
              "      <th>3</th>\n",
              "      <td>False</td>\n",
              "      <td>omikron atakować czyli kłamstwo kowidowych jed...</td>\n",
              "    </tr>\n",
              "    <tr>\n",
              "      <th>4</th>\n",
              "      <td>False</td>\n",
              "      <td>głowny portal zdrowie jeszuwiara yeshuang nasz...</td>\n",
              "    </tr>\n",
              "  </tbody>\n",
              "</table>\n",
              "</div>\n",
              "      <button class=\"colab-df-convert\" onclick=\"convertToInteractive('df-0f1c4eb2-9c77-4f29-a103-5fd62a09a17b')\"\n",
              "              title=\"Convert this dataframe to an interactive table.\"\n",
              "              style=\"display:none;\">\n",
              "        \n",
              "  <svg xmlns=\"http://www.w3.org/2000/svg\" height=\"24px\"viewBox=\"0 0 24 24\"\n",
              "       width=\"24px\">\n",
              "    <path d=\"M0 0h24v24H0V0z\" fill=\"none\"/>\n",
              "    <path d=\"M18.56 5.44l.94 2.06.94-2.06 2.06-.94-2.06-.94-.94-2.06-.94 2.06-2.06.94zm-11 1L8.5 8.5l.94-2.06 2.06-.94-2.06-.94L8.5 2.5l-.94 2.06-2.06.94zm10 10l.94 2.06.94-2.06 2.06-.94-2.06-.94-.94-2.06-.94 2.06-2.06.94z\"/><path d=\"M17.41 7.96l-1.37-1.37c-.4-.4-.92-.59-1.43-.59-.52 0-1.04.2-1.43.59L10.3 9.45l-7.72 7.72c-.78.78-.78 2.05 0 2.83L4 21.41c.39.39.9.59 1.41.59.51 0 1.02-.2 1.41-.59l7.78-7.78 2.81-2.81c.8-.78.8-2.07 0-2.86zM5.41 20L4 18.59l7.72-7.72 1.47 1.35L5.41 20z\"/>\n",
              "  </svg>\n",
              "      </button>\n",
              "      \n",
              "  <style>\n",
              "    .colab-df-container {\n",
              "      display:flex;\n",
              "      flex-wrap:wrap;\n",
              "      gap: 12px;\n",
              "    }\n",
              "\n",
              "    .colab-df-convert {\n",
              "      background-color: #E8F0FE;\n",
              "      border: none;\n",
              "      border-radius: 50%;\n",
              "      cursor: pointer;\n",
              "      display: none;\n",
              "      fill: #1967D2;\n",
              "      height: 32px;\n",
              "      padding: 0 0 0 0;\n",
              "      width: 32px;\n",
              "    }\n",
              "\n",
              "    .colab-df-convert:hover {\n",
              "      background-color: #E2EBFA;\n",
              "      box-shadow: 0px 1px 2px rgba(60, 64, 67, 0.3), 0px 1px 3px 1px rgba(60, 64, 67, 0.15);\n",
              "      fill: #174EA6;\n",
              "    }\n",
              "\n",
              "    [theme=dark] .colab-df-convert {\n",
              "      background-color: #3B4455;\n",
              "      fill: #D2E3FC;\n",
              "    }\n",
              "\n",
              "    [theme=dark] .colab-df-convert:hover {\n",
              "      background-color: #434B5C;\n",
              "      box-shadow: 0px 1px 3px 1px rgba(0, 0, 0, 0.15);\n",
              "      filter: drop-shadow(0px 1px 2px rgba(0, 0, 0, 0.3));\n",
              "      fill: #FFFFFF;\n",
              "    }\n",
              "  </style>\n",
              "\n",
              "      <script>\n",
              "        const buttonEl =\n",
              "          document.querySelector('#df-0f1c4eb2-9c77-4f29-a103-5fd62a09a17b button.colab-df-convert');\n",
              "        buttonEl.style.display =\n",
              "          google.colab.kernel.accessAllowed ? 'block' : 'none';\n",
              "\n",
              "        async function convertToInteractive(key) {\n",
              "          const element = document.querySelector('#df-0f1c4eb2-9c77-4f29-a103-5fd62a09a17b');\n",
              "          const dataTable =\n",
              "            await google.colab.kernel.invokeFunction('convertToInteractive',\n",
              "                                                     [key], {});\n",
              "          if (!dataTable) return;\n",
              "\n",
              "          const docLinkHtml = 'Like what you see? Visit the ' +\n",
              "            '<a target=\"_blank\" href=https://colab.research.google.com/notebooks/data_table.ipynb>data table notebook</a>'\n",
              "            + ' to learn more about interactive tables.';\n",
              "          element.innerHTML = '';\n",
              "          dataTable['output_type'] = 'display_data';\n",
              "          await google.colab.output.renderOutput(dataTable, element);\n",
              "          const docLink = document.createElement('div');\n",
              "          docLink.innerHTML = docLinkHtml;\n",
              "          element.appendChild(docLink);\n",
              "        }\n",
              "      </script>\n",
              "    </div>\n",
              "  </div>\n",
              "  "
            ],
            "text/plain": [
              "   Verdict                                               Text\n",
              "0    False  nieoczywisty rzeczywistość fsychologia pozytyw...\n",
              "1    False  bęcwalstwo polski nauka odkryty w rpa nowy wir...\n",
              "2    False  magmag cos zaczęlo wyłączać serce sportowiec c...\n",
              "3    False  omikron atakować czyli kłamstwo kowidowych jed...\n",
              "4    False  głowny portal zdrowie jeszuwiara yeshuang nasz..."
            ]
          },
          "metadata": {}
        },
        {
          "output_type": "stream",
          "name": "stdout",
          "text": [
            "(1337, 26554)\n",
            "(1337, 178542)\n"
          ]
        }
      ]
    },
    {
      "cell_type": "code",
      "metadata": {
        "colab": {
          "base_uri": "https://localhost:8080/"
        },
        "id": "Z6Zx7XsWy2EM",
        "outputId": "d861981a-4556-4348-e3df-60d9e92cc0ee"
      },
      "source": [
        "params = {'alpha': [0.001, 0.003, 0.01, 0.03, 0.1, 0.3, 1]}\n",
        "nb_classifier = GridSearchCV(MultinomialNB(), params)\n",
        "\n",
        "nb_classifier.fit(tfidf_train, y_train)\n",
        "nb_y_pred = nb_classifier.predict(tfidf_test)\n",
        "print(f'Best score (unigrams): {nb_classifier.best_score_} for params: {nb_classifier.best_params_}')\n",
        "dump(nb_classifier, 'nb_classifier.joblib') \n",
        "\n",
        "nb_classifier.fit(tfidf_train_bigrams, y_train)\n",
        "nb_y_pred_bigrams = nb_classifier.predict(tfidf_test_bigrams)\n",
        "print(f'Best score (bigrams): {nb_classifier.best_score_} for params: {nb_classifier.best_params_}')\n",
        "\n",
        "print(metrics.accuracy_score(y_test, nb_y_pred))\n",
        "print(metrics.accuracy_score(y_test, nb_y_pred_bigrams))"
      ],
      "execution_count": null,
      "outputs": [
        {
          "output_type": "stream",
          "name": "stdout",
          "text": [
            "Best score 0.8885711889988261 for param {'alpha': 0.03}\n",
            "Best score 0.8855777293308738 for param {'alpha': 0.001}\n",
            "0.8568935427574171\n",
            "0.7905759162303665\n"
          ]
        }
      ]
    },
    {
      "cell_type": "code",
      "source": [
        "params = {'C': [0.01, 0.03, 0.1, 0.3, 1],\n",
        "            'gamma': ['scale', 'auto']}\n",
        "svc_classifier = GridSearchCV(SVC(), params)\n",
        "\n",
        "svc_classifier.fit(tfidf_train, y_train)\n",
        "svc_y_pred = svc_classifier.predict(tfidf_test)\n",
        "print(f'Best score (unigrams): {svc_classifier.best_score_} for params: {svc_classifier.best_params_}')\n",
        "dump(svc_classifier, 'svc_classifier.joblib') \n",
        "\n",
        "svc_classifier.fit(tfidf_train_bigrams, y_train)\n",
        "svc_y_pred_bigrams = svc_classifier.predict(tfidf_test_bigrams)\n",
        "print(f'Best score (bigrams): {svc_classifier.best_score_} for params: {svc_classifier.best_params_}')\n",
        "\n",
        "print(metrics.accuracy_score(y_test, svc_y_pred))\n",
        "print(metrics.accuracy_score(y_test, svc_y_pred_bigrams))"
      ],
      "metadata": {
        "colab": {
          "base_uri": "https://localhost:8080/"
        },
        "id": "AmteeaosoduL",
        "outputId": "3d46213b-fadd-4746-abb5-8d9821f6e52a"
      },
      "execution_count": null,
      "outputs": [
        {
          "output_type": "stream",
          "name": "stdout",
          "text": [
            "Best score 0.913991838560009 for param {'C': 1, 'gamma': 'scale'}\n",
            "Best score 0.6716417910447763 for param {'C': 1, 'gamma': 'scale'}\n",
            "0.9197207678883071\n",
            "0.7102966841186736\n"
          ]
        }
      ]
    },
    {
      "cell_type": "code",
      "source": [
        "params = {'n_estimators': [10, 30, 100, 300, 1000]}\n",
        "rf_classifier = GridSearchCV(RandomForestClassifier(), params)\n",
        "\n",
        "rf_classifier.fit(tfidf_train, y_train)\n",
        "rf_y_pred = rf_classifier.predict(tfidf_test)\n",
        "print(f'Best score (unigrams): {rf_classifier.best_score_} for params: {rf_classifier.best_params_}')\n",
        "dump(rf_classifier, 'rf_classifier.joblib') \n",
        "\n",
        "rf_classifier.fit(tfidf_train_bigrams, y_train)\n",
        "rf_y_pred_bigrams = rf_classifier.predict(tfidf_test_bigrams)\n",
        "print(f'Best score (bigrams): {rf_classifier.best_score_} for params: {rf_classifier.best_params_}')\n",
        "\n",
        "print(metrics.accuracy_score(y_test, rf_y_pred))\n",
        "print(metrics.accuracy_score(y_test, rf_y_pred_bigrams))"
      ],
      "metadata": {
        "colab": {
          "base_uri": "https://localhost:8080/"
        },
        "id": "Oc_oYQBloeAl",
        "outputId": "67d2791a-deb3-4817-c1f3-4a586387bf04"
      },
      "execution_count": null,
      "outputs": [
        {
          "output_type": "stream",
          "name": "stdout",
          "text": [
            "Best score 0.8878109452736318 for param {'n_estimators': 1000}\n",
            "Best score 0.8698725473754821 for param {'n_estimators': 1000}\n",
            "0.900523560209424\n",
            "0.8726003490401396\n"
          ]
        }
      ]
    },
    {
      "cell_type": "code",
      "source": [
        "# Calculate the confusion matrix: cm\n",
        "metrics.ConfusionMatrixDisplay.from_predictions(y_test, svc_y_pred)\n",
        "print(metrics.classification_report(y_test, svc_y_pred))\n",
        "\n",
        "fpr, tpr, thresholds = metrics.roc_curve(y_test, svc_y_pred)\n",
        "roc_auc = metrics.auc(fpr, tpr)\n",
        "plt.figure()\n",
        "lw = 2\n",
        "plt.plot(\n",
        "    fpr,\n",
        "    tpr,\n",
        "    color=\"darkorange\",\n",
        "    lw=lw,\n",
        "    label=\"ROC curve (area = %0.2f)\" % roc_auc,\n",
        ")\n",
        "plt.plot([0, 1], [0, 1], color=\"navy\", lw=lw, linestyle=\"--\")\n",
        "plt.xlim([0.0, 1.0])\n",
        "plt.ylim([0.0, 1.05])\n",
        "plt.xlabel(\"False Positive Rate\")\n",
        "plt.ylabel(\"True Positive Rate\")\n",
        "plt.title(\"Receiver operating characteristic example\")\n",
        "plt.legend(loc=\"lower right\")\n",
        "plt.show()\n",
        "\n",
        "# Calculate the confusion matrix: cm\n",
        "metrics.ConfusionMatrixDisplay.from_predictions(y_test, svc_y_pred_bigrams)\n",
        "print(metrics.classification_report(y_test, svc_y_pred_bigrams))\n",
        "\n",
        "fpr, tpr, thresholds = metrics.roc_curve(y_test, svc_y_pred_bigrams)\n",
        "roc_auc = metrics.auc(fpr, tpr)\n",
        "plt.figure()\n",
        "lw = 2\n",
        "plt.plot(\n",
        "    fpr,\n",
        "    tpr,\n",
        "    color=\"darkorange\",\n",
        "    lw=lw,\n",
        "    label=\"ROC curve (area = %0.2f)\" % roc_auc,\n",
        ")\n",
        "plt.plot([0, 1], [0, 1], color=\"navy\", lw=lw, linestyle=\"--\")\n",
        "plt.xlim([0.0, 1.0])\n",
        "plt.ylim([0.0, 1.05])\n",
        "plt.xlabel(\"False Positive Rate\")\n",
        "plt.ylabel(\"True Positive Rate\")\n",
        "plt.title(\"Receiver operating characteristic example\")\n",
        "plt.legend(loc=\"lower right\")\n",
        "plt.show()"
      ],
      "metadata": {
        "colab": {
          "base_uri": "https://localhost:8080/",
          "height": 1000
        },
        "id": "7u4vZHsfxVBU",
        "outputId": "05d3fbce-0ffc-4474-9bd5-28637b933e82"
      },
      "execution_count": null,
      "outputs": [
        {
          "output_type": "stream",
          "name": "stdout",
          "text": [
            "              precision    recall  f1-score   support\n",
            "\n",
            "       False       0.86      0.97      0.91       241\n",
            "        True       0.97      0.89      0.93       332\n",
            "\n",
            "    accuracy                           0.92       573\n",
            "   macro avg       0.92      0.93      0.92       573\n",
            "weighted avg       0.93      0.92      0.92       573\n",
            "\n"
          ]
        },
        {
          "output_type": "display_data",
          "data": {
            "image/png": "[encoded data removed]",
            "text/plain": [
              "<Figure size 432x288 with 2 Axes>"
            ]
          },
          "metadata": {
            "needs_background": "light"
          }
        },
        {
          "output_type": "display_data",
          "data": {
            "image/png": "[encoded data removed]",
            "text/plain": [
              "<Figure size 432x288 with 1 Axes>"
            ]
          },
          "metadata": {
            "needs_background": "light"
          }
        },
        {
          "output_type": "stream",
          "name": "stdout",
          "text": [
            "              precision    recall  f1-score   support\n",
            "\n",
            "       False       0.88      0.36      0.51       241\n",
            "        True       0.68      0.96      0.79       332\n",
            "\n",
            "    accuracy                           0.71       573\n",
            "   macro avg       0.78      0.66      0.65       573\n",
            "weighted avg       0.76      0.71      0.68       573\n",
            "\n"
          ]
        },
        {
          "output_type": "display_data",
          "data": {
            "image/png": "[encoded data removed]",
            "text/plain": [
              "<Figure size 432x288 with 2 Axes>"
            ]
          },
          "metadata": {
            "needs_background": "light"
          }
        },
        {
          "output_type": "display_data",
          "data": {
            "image/png": "[encoded data removed]",
            "text/plain": [
              "<Figure size 432x288 with 1 Axes>"
            ]
          },
          "metadata": {
            "needs_background": "light"
          }
        }
      ]
    }
  ]
}