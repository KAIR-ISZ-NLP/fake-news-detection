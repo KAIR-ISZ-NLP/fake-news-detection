{
  "nbformat": 4,
  "nbformat_minor": 0,
  "metadata": {
    "colab": {
      "name": "web_scraping_termedia.ipynb",
      "provenance": [],
      "collapsed_sections": []
    },
    "kernelspec": {
      "name": "python3",
      "display_name": "Python 3"
    },
    "language_info": {
      "name": "python"
    },
    "accelerator": "GPU"
  },
  "cells": [
    {
      "cell_type": "markdown",
      "source": [
        "# Reliable News Web Scraping"
      ],
      "metadata": {
        "id": "sWX52MqKG-F2"
      }
    },
    {
      "cell_type": "code",
      "source": [
        "! nvidia-smi"
      ],
      "metadata": {
        "id": "HzmxJcT_Nmi3"
      },
      "execution_count": null,
      "outputs": []
    },
    {
      "cell_type": "code",
      "execution_count": null,
      "metadata": {
        "id": "8tvEW04wFcyz"
      },
      "outputs": [],
      "source": [
        "! pip install requests\n",
        "! apt-get update"
      ]
    },
    {
      "cell_type": "code",
      "source": [
        "# Imports\n",
        "import requests\n",
        "import numpy as np\n",
        "import pandas as pd\n",
        "from bs4 import BeautifulSoup\n",
        "import matplotlib.pyplot as plt"
      ],
      "metadata": {
        "id": "eK4OYUTUFmPR"
      },
      "execution_count": null,
      "outputs": []
    },
    {
      "cell_type": "code",
      "source": [
        "def get_articles_links(page):\n",
        "    '''Gets links to articles from termedia.pl.\n",
        "\n",
        "    Args:\n",
        "        page (int): Page number of termedia.pl to process. \n",
        "    \n",
        "    Returns:\n",
        "        links (list): List of links to articles.\n",
        "    '''\n",
        "    url = 'https://www.termedia.pl/koronawirus/?&p=' + str(page)\n",
        "    print(f'Processing page {page}: {url}')\n",
        "    req = requests.get(url)  \n",
        "    req.encoding = 'utf-8'                           \n",
        "    soup = BeautifulSoup(req.text, 'html.parser')\n",
        "    links = soup.find_all('div', attrs={'class': 'pl2Pos'}) \n",
        "\n",
        "    return links\n",
        "\n",
        "def extract_text_from_article(url):\n",
        "    '''Gets the article's title, content and URL.\n",
        "    \n",
        "    Args:\n",
        "        url (str): URL of the article.\n",
        "    \n",
        "    Returns:\n",
        "        (tuple): Tuple containing:\n",
        "            title: Article's title.\n",
        "            text: Article's content.\n",
        "            url: Article's url.\n",
        "    '''\n",
        "\n",
        "    req = requests.get(url_art)\n",
        "    req.encoding = 'utf-8'                             \n",
        "\n",
        "    soup_art = BeautifulSoup(req_art.text, 'html.parser')\n",
        "\n",
        "    title = soup_art.find('div', attrs={'class': 'pageTitle'}).text\n",
        "\n",
        "    try:\n",
        "        text = ' '.join([t.text for t in soup_art.find_all('div', attrs={'class': 'articleContent'})])\n",
        "    except AttributeError:\n",
        "        text = ''\n",
        "\n",
        "    article_url = 'https://www.termedia.pl' + link.find('a')['href'].strip()\n",
        "\n",
        "    return title, text, article_url"
      ],
      "metadata": {
        "id": "ktNuhAU39LXA"
      },
      "execution_count": null,
      "outputs": []
    },
    {
      "cell_type": "code",
      "source": [
        "articles_counter = 0\n",
        "pages_to_scrap = 144\n",
        "\n",
        "df = pd.DataFrame(columns=['Verdict', 'Title', 'Text', 'Url'])\n",
        "\n",
        "for page in range(1, pages_to_scrap + 1):\n",
        "    links = get_articles_links(page)\n",
        "\n",
        "    for idx, link in enumerate(links):\n",
        "        articles_counter += 1\n",
        "        title, text, url_art = extract_text_from_article(link)\n",
        "        \n",
        "        df.loc[10 * (page-1) + idx] = ['true', title, text, url_art]\n",
        "    \n",
        "df.to_excel('data/termedia_dataset.xlsx', encoding='utf-8', index=False)\n",
        "display(df.head())\n",
        "print(f'Scraped articles in total: {len(df)}')"
      ],
      "metadata": {
        "id": "E4YUEtrcFsZl"
      },
      "execution_count": null,
      "outputs": []
    },
    {
      "cell_type": "code",
      "source": [
        "import pandas as pd\n",
        "import matplotlib.pyplot as plt\n",
        "df = pd.read_excel('termedia_dataset.xlsx', encoding='utf-8', index=False)\n",
        "\n",
        "plt.hist(df['Text'].astype(str).apply(len), bins=range(0, 11000, 1000))\n",
        "plt.xticks(range(0, 11000, 1000))\n",
        "plt.xticks(rotation='vertical')\n",
        "plt.show()\n",
        "\n",
        "plt.hist(df['Text'].astype(str).apply(len), bins=range(10000, max(df['Text'].astype(str).apply(len)), 2000))\n",
        "plt.xticks(range(10000, max(df['Text'].astype(str).apply(len)), 2000))\n",
        "plt.xticks(rotation='vertical')\n",
        "plt.show()\n"
      ],
      "metadata": {
        "colab": {
          "base_uri": "https://localhost:8080/",
          "height": 557
        },
        "id": "gMLG5_rdCpJX",
        "outputId": "0899aa20-b83f-4982-b9b2-8a5f156c3bc2"
      },
      "execution_count": null,
      "outputs": [
        {
          "output_type": "display_data",
          "data": {
            "image/png": "[encoded data removed]",
            "text/plain": [
              "<Figure size 432x288 with 1 Axes>"
            ]
          },
          "metadata": {
            "needs_background": "light"
          }
        },
        {
          "output_type": "display_data",
          "data": {
            "image/png": "[encoded data removed]",
            "text/plain": [
              "<Figure size 432x288 with 1 Axes>"
            ]
          },
          "metadata": {
            "needs_background": "light"
          }
        }
      ]
    }
  ]
}